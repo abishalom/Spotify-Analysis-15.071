{
 "cells": [
  {
   "cell_type": "code",
   "execution_count": 149,
   "metadata": {},
   "outputs": [],
   "source": [
    "import numpy as np\n",
    "import pandas as pd\n",
    "import torch\n",
    "import torch.utils.data\n",
    "from torch import nn, optim\n",
    "from torch.autograd.variable import Variable\n",
    "from torch.utils.data.sampler import SubsetRandomSampler\n",
    "import time\n",
    "import matplotlib.pyplot as plt"
   ]
  },
  {
   "cell_type": "markdown",
   "metadata": {},
   "source": [
    "Loading dataset from the file. For now, not normalized but may want to explore normalization."
   ]
  },
  {
   "cell_type": "code",
   "execution_count": 150,
   "metadata": {},
   "outputs": [],
   "source": [
    "dataset = pd.read_csv('19000-spotify-songs/cleaned_song_data.csv', index_col=0)"
   ]
  },
  {
   "cell_type": "code",
   "execution_count": 151,
   "metadata": {},
   "outputs": [],
   "source": [
    "X = dataset.drop(labels = ['song_name', 'avg_song_popularity'], axis=1).values\n",
    "X = torch.tensor(X).float()"
   ]
  },
  {
   "cell_type": "code",
   "execution_count": 152,
   "metadata": {},
   "outputs": [],
   "source": [
    "Y = dataset['avg_song_popularity'].values\n",
    "Y = Y[:, None]\n",
    "Y = torch.tensor(Y).float()"
   ]
  },
  {
   "cell_type": "code",
   "execution_count": 153,
   "metadata": {},
   "outputs": [
    {
     "data": {
      "text/plain": [
       "(torch.Size([13070, 13]), torch.Size([13070, 1]))"
      ]
     },
     "execution_count": 153,
     "metadata": {},
     "output_type": "execute_result"
    }
   ],
   "source": [
    "X.shape, Y.shape"
   ]
  },
  {
   "cell_type": "code",
   "execution_count": 154,
   "metadata": {},
   "outputs": [],
   "source": [
    "dataset = torch.utils.data.TensorDataset(X, Y)"
   ]
  },
  {
   "cell_type": "code",
   "execution_count": 155,
   "metadata": {},
   "outputs": [],
   "source": [
    "validation_split = 0.30\n",
    "dataset_size = len(dataset)\n",
    "indices = list(range(dataset_size))\n",
    "split = int(np.floor(validation_split * dataset_size))\n",
    "\n",
    "train_split, val_split = torch.utils.data.random_split(dataset, [dataset_size - split, split])\n",
    "\n",
    "# np.random.shuffle(indices)\n",
    "# train_indices, val_indices = indices[split:], indices[:split]\n",
    "\n",
    "# # Creating PT data samplers and loaders:\n",
    "# train_sampler = SubsetRandomSampler(train_indices)\n",
    "# valid_sampler = SubsetRandomSampler(val_indices)\n",
    "\n",
    "# train_loader = torch.utils.data.DataLoader(dataset, batch_size=batch_size, \n",
    "#                                            sampler=train_sampler)\n",
    "# validation_loader = torch.utils.data.DataLoader(dataset, batch_size=batch_size,\n",
    "#                                                 sampler=valid_sampler)"
   ]
  },
  {
   "cell_type": "code",
   "execution_count": 156,
   "metadata": {},
   "outputs": [],
   "source": [
    "batch_size = 100\n",
    "shuffle = True\n",
    "\n",
    "train_loader = torch.utils.data.DataLoader(train_split, batch_size = batch_size, shuffle = True)\n",
    "val_loader = torch.utils.data.DataLoader(val_split, batch_size = batch_size, shuffle = True)\n",
    "\n",
    "# train_data_loader = torch.utils.data.DataLoader(dataset, \n",
    "#                                                 batch_size = batch_size,\n",
    "#                                                 sampler = train_sampler)\n",
    "\n",
    "# valid_data_loader = torch.utils.data.DataLoader(dataset,\n",
    "#                                                     batch_size = batch_size,\n",
    "#                                                     sampler = valid_sampler)"
   ]
  },
  {
   "cell_type": "markdown",
   "metadata": {},
   "source": [
    "Architecture:\n",
    "\n",
    "1) Input 100 x 13\n",
    "2) FC with 52 units, ReLU\n",
    "3) FC with 104 units, ReLU\n",
    "4) FC with 52 units, ReLU\n",
    "5) FC with 13 units, ReLU\n",
    "6) FC with 1 unit, linear"
   ]
  },
  {
   "cell_type": "code",
   "execution_count": 157,
   "metadata": {},
   "outputs": [],
   "source": [
    "class my_Net(torch.nn.Module):\n",
    "    def __init__(self, in_dim, out_dim):\n",
    "        super(my_Net, self).__init__()\n",
    "        \n",
    "        self.fc = nn.Sequential(\n",
    "            nn.Linear(in_dim, in_dim * 2),\n",
    "            nn.ReLU(),\n",
    "            nn.Dropout(0.5),\n",
    "            nn.Linear(in_dim*2, in_dim * 2),\n",
    "            nn.ReLU(),\n",
    "            nn.Dropout(0.5),\n",
    "            nn.Linear(in_dim*2, in_dim),\n",
    "            nn.ReLU(),\n",
    "            nn.Dropout(0.5),\n",
    "            nn.Linear(in_dim, out_dim)\n",
    "        )\n",
    "        \n",
    "\n",
    "    def forward(self, x):\n",
    "        return self.fc(x)"
   ]
  },
  {
   "cell_type": "code",
   "execution_count": 158,
   "metadata": {},
   "outputs": [],
   "source": [
    "def train(data_loader, num_epochs = 10):\n",
    "        \n",
    "    in_dim = next(iter(data_loader))[0].size()[1]\n",
    "    out_dim = 1\n",
    "    \n",
    "    net = my_Net(in_dim, out_dim)\n",
    "    \n",
    "    #Initialize loss function & optimizer\n",
    "    loss_fn = nn.MSELoss()\n",
    "    optimizer = optim.Adam(net.parameters())\n",
    "    \n",
    "    train_hist = {}\n",
    "    train_hist['loss'] = []\n",
    "    train_hist['per_epoch_time'] = []\n",
    "    train_hist['total_time'] = []\n",
    "    \n",
    "    start_time = time.time()\n",
    "\n",
    "    for epoch in range(num_epochs):\n",
    "\n",
    "        epoch_start_time = time.time()\n",
    "\n",
    "        for i, (x, y) in enumerate(data_loader, 0):\n",
    "            batch_start_time = time.time()\n",
    "\n",
    "            b_size = x.size()[0]\n",
    "\n",
    "            net.zero_grad()\n",
    "\n",
    "            x = Variable(x)\n",
    "            y = Variable(y)\n",
    "\n",
    "            output = net(x)\n",
    "\n",
    "            loss = loss_fn(output, y)\n",
    "\n",
    "            loss.backward()\n",
    "            optimizer.step()\n",
    "\n",
    "\n",
    "            train_hist['loss'].append(loss.item())\n",
    "\n",
    "        train_hist['per_epoch_time'].append(time.time() - epoch_start_time)\n",
    "\n",
    "        train_hist['total_time'].append(time.time() - start_time)\n",
    "        print(\"Completed epoch {}\".format(epoch+1))\n",
    "    return train_hist, net"
   ]
  },
  {
   "cell_type": "code",
   "execution_count": 160,
   "metadata": {},
   "outputs": [
    {
     "name": "stdout",
     "output_type": "stream",
     "text": [
      "Completed epoch 1\n",
      "Completed epoch 2\n",
      "Completed epoch 3\n",
      "Completed epoch 4\n",
      "Completed epoch 5\n",
      "Completed epoch 6\n",
      "Completed epoch 7\n",
      "Completed epoch 8\n",
      "Completed epoch 9\n",
      "Completed epoch 10\n"
     ]
    }
   ],
   "source": [
    "train_hist, net = train(train_loader)\n",
    "# valid_pred = "
   ]
  },
  {
   "cell_type": "code",
   "execution_count": 165,
   "metadata": {},
   "outputs": [
    {
     "data": {
      "text/plain": [
       "(10879.596621283035, 16438.7265625)"
      ]
     },
     "execution_count": 165,
     "metadata": {},
     "output_type": "execute_result"
    }
   ],
   "source": [
    "valid_MSE = 0\n",
    "loss_fn = nn.MSELoss()\n",
    "\n",
    "with torch.no_grad():\n",
    "    for i, (x, y) in enumerate(val_loader):\n",
    "        b_size = x.size()[0]\n",
    "        x = Variable(x)\n",
    "        y = Variable(y)\n",
    "\n",
    "        output = net(x)\n",
    "\n",
    "        loss = loss_fn(output, y)\n",
    "        valid_MSE += b_size*loss.item()\n",
    "\n",
    "valid_MSE /= len(val_indices)\n",
    "# len(val_indices)\n",
    "valid_MSE, train_hist['loss'][-1]\n"
   ]
  },
  {
   "cell_type": "code",
   "execution_count": 124,
   "metadata": {},
   "outputs": [
    {
     "data": {
      "text/plain": [
       "[<matplotlib.lines.Line2D at 0x1bdf3830a90>]"
      ]
     },
     "execution_count": 124,
     "metadata": {},
     "output_type": "execute_result"
    },
    {
     "data": {
      "image/png": "[encoded data removed]",
      "text/plain": [
       "<matplotlib.figure.Figure at 0x1bdf37a5f60>"
      ]
     },
     "metadata": {
      "needs_background": "light"
     },
     "output_type": "display_data"
    }
   ],
   "source": [
    "plt.plot(train_hist['loss'])"
   ]
  }
 ],
 "metadata": {
  "kernelspec": {
   "display_name": "Python 3",
   "language": "python",
   "name": "python3"
  },
  "language_info": {
   "codemirror_mode": {
    "name": "ipython",
    "version": 3
   },
   "file_extension": ".py",
   "mimetype": "text/x-python",
   "name": "python",
   "nbconvert_exporter": "python",
   "pygments_lexer": "ipython3",
   "version": "3.6.6"
  }
 },
 "nbformat": 4,
 "nbformat_minor": 2
}
