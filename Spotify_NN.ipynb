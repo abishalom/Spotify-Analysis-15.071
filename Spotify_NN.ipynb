{
 "cells": [
  {
   "cell_type": "code",
   "execution_count": 110,
   "metadata": {},
   "outputs": [],
   "source": [
    "import numpy as np\n",
    "import pandas as pd\n",
    "import torch\n",
    "import torch.utils.data\n",
    "from torch import nn, optim\n",
    "from torch.autograd.variable import Variable\n",
    "from torch.utils.data.sampler import SubsetRandomSampler\n",
    "import time\n",
    "import matplotlib.pyplot as plt\n",
    "from sklearn.metrics import r2_score"
   ]
  },
  {
   "cell_type": "markdown",
   "metadata": {},
   "source": [
    "Loading dataset from the file. For now, not normalized but may want to explore normalization."
   ]
  },
  {
   "cell_type": "code",
   "execution_count": 111,
   "metadata": {},
   "outputs": [],
   "source": [
    "dataset = pd.read_csv('19000-spotify-songs/cleaned_song_data.csv', index_col=0)\n",
    "\n",
    "normalize = True"
   ]
  },
  {
   "cell_type": "code",
   "execution_count": 112,
   "metadata": {},
   "outputs": [],
   "source": [
    "X = dataset.drop(labels = ['song_name', 'avg_song_popularity'], axis=1)\n",
    "#Standardize to N(0, 1)\n",
    "if normalize:\n",
    "    X = (X - np.mean(X))/np.std(X)\n",
    "X = X.values\n",
    "X = torch.tensor(X).float()"
   ]
  },
  {
   "cell_type": "code",
   "execution_count": 113,
   "metadata": {},
   "outputs": [],
   "source": [
    "Y = dataset['avg_song_popularity'].values\n",
    "pop_mean = np.mean(Y)\n",
    "pop_std = np.std(Y)\n",
    "if normalize:\n",
    "    Y = (Y-pop_mean)/pop_std\n",
    "Y = Y[:, None]\n",
    "Y = torch.tensor(Y).float()"
   ]
  },
  {
   "cell_type": "code",
   "execution_count": 114,
   "metadata": {},
   "outputs": [
    {
     "data": {
      "text/plain": [
       "(torch.Size([13070, 13]), torch.Size([13070, 1]))"
      ]
     },
     "execution_count": 114,
     "metadata": {},
     "output_type": "execute_result"
    }
   ],
   "source": [
    "X.shape, Y.shape"
   ]
  },
  {
   "cell_type": "code",
   "execution_count": 115,
   "metadata": {},
   "outputs": [],
   "source": [
    "dataset = torch.utils.data.TensorDataset(X, Y)"
   ]
  },
  {
   "cell_type": "code",
   "execution_count": 116,
   "metadata": {},
   "outputs": [],
   "source": [
    "validation_split = 0.30\n",
    "dataset_size = len(dataset)\n",
    "indices = list(range(dataset_size))\n",
    "split = int(np.floor(validation_split * dataset_size))\n",
    "\n",
    "train_split, val_split = torch.utils.data.random_split(dataset, [dataset_size - split, split])\n",
    "\n",
    "# np.random.shuffle(indices)\n",
    "# train_indices, val_indices = indices[split:], indices[:split]\n",
    "\n",
    "# # Creating PT data samplers and loaders:\n",
    "# train_sampler = SubsetRandomSampler(train_indices)\n",
    "# valid_sampler = SubsetRandomSampler(val_indices)\n",
    "\n",
    "# train_loader = torch.utils.data.DataLoader(dataset, batch_size=batch_size, \n",
    "#                                            sampler=train_sampler)\n",
    "# validation_loader = torch.utils.data.DataLoader(dataset, batch_size=batch_size,\n",
    "#                                                 sampler=valid_sampler)"
   ]
  },
  {
   "cell_type": "code",
   "execution_count": 117,
   "metadata": {},
   "outputs": [],
   "source": [
    "batch_size = 100\n",
    "shuffle = True\n",
    "\n",
    "train_loader = torch.utils.data.DataLoader(train_split, batch_size = batch_size, shuffle = True)\n",
    "val_loader = torch.utils.data.DataLoader(val_split, batch_size = split, shuffle = True)\n",
    "\n",
    "# train_data_loader = torch.utils.data.DataLoader(dataset, \n",
    "#                                                 batch_size = batch_size,\n",
    "#                                                 sampler = train_sampler)\n",
    "\n",
    "# valid_data_loader = torch.utils.data.DataLoader(dataset,\n",
    "#                                                     batch_size = batch_size,\n",
    "#                                                     sampler = valid_sampler)"
   ]
  },
  {
   "cell_type": "markdown",
   "metadata": {},
   "source": [
    "Architecture:\n",
    "\n",
    "1) Input 100 x 13\n",
    "2) FC with 52 units, ReLU\n",
    "3) FC with 104 units, ReLU\n",
    "4) FC with 52 units, ReLU\n",
    "5) FC with 13 units, ReLU\n",
    "6) FC with 1 unit, linear"
   ]
  },
  {
   "cell_type": "code",
   "execution_count": 195,
   "metadata": {},
   "outputs": [],
   "source": [
    "class my_Net(torch.nn.Module):\n",
    "    def __init__(self, in_dim, out_dim):\n",
    "        super(my_Net, self).__init__()\n",
    "        \n",
    "        self.fc = nn.Sequential(\n",
    "            nn.Linear(in_dim, in_dim * 2),\n",
    "            nn.ReLU(),\n",
    "            nn.Dropout(0.5),\n",
    "            nn.Linear(in_dim*2, in_dim * 4),\n",
    "            nn.ReLU(),\n",
    "            nn.Dropout(0.5),\n",
    "            nn.Linear(in_dim*4, in_dim*2),\n",
    "            nn.ReLU(),\n",
    "            nn.Dropout(0.5),\n",
    "            nn.Linear(in_dim*2, in_dim),\n",
    "            nn.ReLU(),\n",
    "            nn.Dropout(0.5),\n",
    "            nn.Linear(in_dim, out_dim)\n",
    "        )\n",
    "        \n",
    "\n",
    "    def forward(self, x):\n",
    "        return self.fc(x)"
   ]
  },
  {
   "cell_type": "code",
   "execution_count": 226,
   "metadata": {},
   "outputs": [],
   "source": [
    "def train(data_loader, val_data_loader, num_epochs = 30):\n",
    "        \n",
    "    in_dim = next(iter(data_loader))[0].size()[1]\n",
    "    out_dim = 1\n",
    "    \n",
    "    net = my_Net(in_dim, out_dim)\n",
    "    \n",
    "    #Initialize loss function & optimizer\n",
    "    loss_fn = nn.MSELoss()\n",
    "    optimizer = optim.Adam(net.parameters(), lr = 1e-3)\n",
    "    \n",
    "    train_hist = {}\n",
    "    train_hist['loss'] = []\n",
    "    train_hist['per_epoch_time'] = []\n",
    "    train_hist['total_time'] = []\n",
    "    train_hist['Validation loss'] = []\n",
    "    train_hist['OSR2'] = []\n",
    "    \n",
    "    start_time = time.time()\n",
    "\n",
    "    for epoch in range(num_epochs):\n",
    "\n",
    "        epoch_start_time = time.time()\n",
    "\n",
    "        for i, (x, y) in enumerate(data_loader, 0):\n",
    "            net.train()\n",
    "            batch_start_time = time.time()\n",
    "\n",
    "            b_size = x.size()[0]\n",
    "\n",
    "            net.zero_grad()\n",
    "\n",
    "            x = Variable(x)\n",
    "            y = Variable(y)\n",
    "\n",
    "            output = net(x)\n",
    "\n",
    "            loss = loss_fn(output, y)\n",
    "\n",
    "            loss.backward()\n",
    "            optimizer.step()\n",
    "\n",
    "            train_hist['loss'].append(loss.item())\n",
    "\n",
    "            \n",
    "        with torch.no_grad():\n",
    "            net.eval()\n",
    "            for (x, y) in val_data_loader:\n",
    "                output = net(x)\n",
    "                val_MSE = loss_fn(output, y)\n",
    "                train_hist['Validation loss'].append(val_MSE.item())\n",
    "                r2 = r2_score(y, output)\n",
    "                train_hist['OSR2'].append(r2)\n",
    "                \n",
    "    \n",
    "        train_hist['per_epoch_time'].append(time.time() - epoch_start_time)\n",
    "\n",
    "        train_hist['total_time'].append(time.time() - start_time)\n",
    "        print(\"Completed epoch {}\".format(epoch+1))\n",
    "    return train_hist, net"
   ]
  },
  {
   "cell_type": "code",
   "execution_count": 227,
   "metadata": {
    "scrolled": true
   },
   "outputs": [
    {
     "name": "stdout",
     "output_type": "stream",
     "text": [
      "Completed epoch 1\n",
      "Completed epoch 2\n",
      "Completed epoch 3\n",
      "Completed epoch 4\n",
      "Completed epoch 5\n",
      "Completed epoch 6\n",
      "Completed epoch 7\n",
      "Completed epoch 8\n",
      "Completed epoch 9\n",
      "Completed epoch 10\n",
      "Completed epoch 11\n",
      "Completed epoch 12\n",
      "Completed epoch 13\n",
      "Completed epoch 14\n",
      "Completed epoch 15\n",
      "Completed epoch 16\n",
      "Completed epoch 17\n",
      "Completed epoch 18\n",
      "Completed epoch 19\n",
      "Completed epoch 20\n",
      "Completed epoch 21\n",
      "Completed epoch 22\n",
      "Completed epoch 23\n",
      "Completed epoch 24\n",
      "Completed epoch 25\n",
      "Completed epoch 26\n",
      "Completed epoch 27\n",
      "Completed epoch 28\n",
      "Completed epoch 29\n",
      "Completed epoch 30\n",
      "Completed epoch 31\n",
      "Completed epoch 32\n",
      "Completed epoch 33\n",
      "Completed epoch 34\n",
      "Completed epoch 35\n",
      "Completed epoch 36\n",
      "Completed epoch 37\n",
      "Completed epoch 38\n",
      "Completed epoch 39\n",
      "Completed epoch 40\n",
      "Completed epoch 41\n",
      "Completed epoch 42\n",
      "Completed epoch 43\n",
      "Completed epoch 44\n",
      "Completed epoch 45\n",
      "Completed epoch 46\n",
      "Completed epoch 47\n",
      "Completed epoch 48\n",
      "Completed epoch 49\n",
      "Completed epoch 50\n",
      "Completed epoch 51\n",
      "Completed epoch 52\n",
      "Completed epoch 53\n",
      "Completed epoch 54\n",
      "Completed epoch 55\n",
      "Completed epoch 56\n",
      "Completed epoch 57\n",
      "Completed epoch 58\n",
      "Completed epoch 59\n",
      "Completed epoch 60\n",
      "Completed epoch 61\n",
      "Completed epoch 62\n",
      "Completed epoch 63\n",
      "Completed epoch 64\n",
      "Completed epoch 65\n",
      "Completed epoch 66\n",
      "Completed epoch 67\n",
      "Completed epoch 68\n",
      "Completed epoch 69\n",
      "Completed epoch 70\n",
      "Completed epoch 71\n",
      "Completed epoch 72\n",
      "Completed epoch 73\n",
      "Completed epoch 74\n",
      "Completed epoch 75\n",
      "Completed epoch 76\n",
      "Completed epoch 77\n",
      "Completed epoch 78\n",
      "Completed epoch 79\n",
      "Completed epoch 80\n",
      "Completed epoch 81\n",
      "Completed epoch 82\n",
      "Completed epoch 83\n",
      "Completed epoch 84\n",
      "Completed epoch 85\n",
      "Completed epoch 86\n",
      "Completed epoch 87\n",
      "Completed epoch 88\n",
      "Completed epoch 89\n",
      "Completed epoch 90\n",
      "Completed epoch 91\n",
      "Completed epoch 92\n",
      "Completed epoch 93\n",
      "Completed epoch 94\n",
      "Completed epoch 95\n",
      "Completed epoch 96\n",
      "Completed epoch 97\n",
      "Completed epoch 98\n",
      "Completed epoch 99\n",
      "Completed epoch 100\n"
     ]
    }
   ],
   "source": [
    "train_hist, net = train(train_loader,val_loader, num_epochs = 100)\n",
    "# valid_pred = "
   ]
  },
  {
   "cell_type": "code",
   "execution_count": 228,
   "metadata": {},
   "outputs": [
    {
     "data": {
      "text/plain": [
       "Text(0.5,1,'Training loss')"
      ]
     },
     "execution_count": 228,
     "metadata": {},
     "output_type": "execute_result"
    },
    {
     "data": {
      "image/png": "[encoded data removed]",
      "text/plain": [
       "<matplotlib.figure.Figure at 0x1a3e982d128>"
      ]
     },
     "metadata": {
      "needs_background": "light"
     },
     "output_type": "display_data"
    }
   ],
   "source": [
    "plt.plot(train_hist['loss'])\n",
    "plt.title(\"Training loss\")"
   ]
  },
  {
   "cell_type": "code",
   "execution_count": 229,
   "metadata": {},
   "outputs": [
    {
     "data": {
      "text/plain": [
       "Text(0.5,0,'Epoch')"
      ]
     },
     "execution_count": 229,
     "metadata": {},
     "output_type": "execute_result"
    },
    {
     "data": {
      "image/png": "[encoded data removed]",
      "text/plain": [
       "<matplotlib.figure.Figure at 0x1a3e989aa90>"
      ]
     },
     "metadata": {
      "needs_background": "light"
     },
     "output_type": "display_data"
    }
   ],
   "source": [
    "plt.plot(train_hist['Validation loss'])\n",
    "plt.title(\"Validation loss\")\n",
    "plt.xlabel(\"Epoch\")"
   ]
  },
  {
   "cell_type": "code",
   "execution_count": 230,
   "metadata": {},
   "outputs": [
    {
     "data": {
      "text/plain": [
       "Text(0.5,0,'Epoch')"
      ]
     },
     "execution_count": 230,
     "metadata": {},
     "output_type": "execute_result"
    },
    {
     "data": {
      "image/png": "[encoded data removed]",
      "text/plain": [
       "<matplotlib.figure.Figure at 0x1a3e994f748>"
      ]
     },
     "metadata": {
      "needs_background": "light"
     },
     "output_type": "display_data"
    }
   ],
   "source": [
    "plt.plot(train_hist['OSR2'])\n",
    "plt.title(\"OSR2\")\n",
    "plt.xlabel(\"Epoch\")"
   ]
  },
  {
   "cell_type": "code",
   "execution_count": 231,
   "metadata": {},
   "outputs": [
    {
     "data": {
      "text/plain": [
       "(0.9665305955803161, 0.04682167405079429)"
      ]
     },
     "execution_count": 231,
     "metadata": {},
     "output_type": "execute_result"
    }
   ],
   "source": [
    "np.sqrt(train_hist['Validation loss'][-1]), train_hist['OSR2'][-1]"
   ]
  },
  {
   "cell_type": "code",
   "execution_count": 245,
   "metadata": {},
   "outputs": [],
   "source": [
    "loss_fn = nn.MSELoss()\n",
    "for x,y in val_loader:\n",
    "    output = net(x)\n",
    "    s_out = output*pop_std + pop_mean\n",
    "    y_real = y * pop_std + pop_mean\n",
    "#     print(output*pop_std + pop_mean, y*pop_std+pop_mean)"
   ]
  }
 ],
 "metadata": {
  "kernelspec": {
   "display_name": "Python 3",
   "language": "python",
   "name": "python3"
  },
  "language_info": {
   "codemirror_mode": {
    "name": "ipython",
    "version": 3
   },
   "file_extension": ".py",
   "mimetype": "text/x-python",
   "name": "python",
   "nbconvert_exporter": "python",
   "pygments_lexer": "ipython3",
   "version": "3.6.6"
  }
 },
 "nbformat": 4,
 "nbformat_minor": 2
}
